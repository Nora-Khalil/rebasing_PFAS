{
 "cells": [
  {
   "cell_type": "code",
   "execution_count": 1,
   "id": "c25db299-d20e-42d4-9c45-c9f82f8afae9",
   "metadata": {},
   "outputs": [],
   "source": [
    "import time \n",
    "import datetime\n",
    "from subprocess import PIPE, run\n",
    "import cantera as ct\n",
    "import os\n",
    "import subprocess\n",
    "import numpy as np\n",
    "import pandas as pd\n",
    "import re\n",
    "import time"
   ]
  },
  {
   "cell_type": "code",
   "execution_count": 2,
   "id": "b5f7b3b7-cd23-4a94-bea7-2a90dc5ce2a0",
   "metadata": {},
   "outputs": [],
   "source": [
    "current_env = os.environ.copy()\n",
    "\n",
    "\n",
    "#change this folder to where you want to save the model\n",
    "folder_to_models = '/path/to/where/youwouldliketosavethemodels'\n",
    "\n",
    "#change to RMG database location\n",
    "RMG_database = '/path/to/your/RMG/database'"
   ]
  },
  {
   "cell_type": "markdown",
   "id": "d84496bd-aefe-4ac0-aeec-f841c1ea91ed",
   "metadata": {},
   "source": [
    "Functions"
   ]
  },
  {
   "cell_type": "code",
   "execution_count": 3,
   "id": "3c782978-9bb0-4e12-89a7-48ca28b9eeef",
   "metadata": {},
   "outputs": [],
   "source": [
    "def convert_to_cti(description, chemkin_indices, format_desc=True): \n",
    "    #copy the necessary files to the folder\n",
    "    \n",
    "    if format_desc==False: \n",
    "        new_folder = f'./{description}/chemkin'\n",
    "        RMG_model_directory = f'{folder_to_models}/{description}/'\n",
    "\n",
    "    else: \n",
    "        new_folder = f'./{description}_rebased/chemkin'\n",
    "        RMG_model_directory = f'{folder_to_models}/{description}_rebased/'\n",
    "\n",
    "    # if not os.path.exists(f'{new_folder}/chemkin/converter.py'):\n",
    "    process = subprocess.run(['scp', './converter.py', new_folder], stdout=PIPE, stderr=PIPE, cwd=folder)\n",
    "    print(process.stdout)\n",
    "    print(process.stderr)\n",
    "\n",
    "    #run the converter.py script with the specific chemkin indices\n",
    "    print(RMG_model_directory)\n",
    "    process = subprocess.run(['python', 'converter.py', str(chemkin_indices)], stdout=PIPE, stderr=PIPE, cwd=f'{RMG_model_directory}chemkin/')\n",
    "    print(process.stdout)\n",
    "    print(process.stderr)\n",
    "    print('finished')\n",
    "    \n",
    "\n",
    "def test_flamespeed(description, chemkin_indices, loglevel, format_desc=True, save=False): \n",
    "    \n",
    "    if format_desc==False: \n",
    "        new_folder = f'./{description}/chemkin'\n",
    "        RMG_model_directory = f'{folder_to_models}/{description}/'\n",
    "\n",
    "    else: \n",
    "        new_folder = f'./{description}_rebased/chemkin'\n",
    "        RMG_model_directory = f'{folder_to_models}/{description}_rebased/'\n",
    "\n",
    "    copies_folder = f'{RMG_model_directory}chemkin/copies'\n",
    "    \n",
    "    beginning_chemkin = chemkin_indices[0]\n",
    "    ending_chemkin = chemkin_indices[-1]\n",
    "    \n",
    "    if len(chemkin_indices)==1:\n",
    "        list_=chemkin_indices\n",
    "    else: \n",
    "        list_ = list(range(beginning_chemkin, ending_chemkin))\n",
    "\n",
    "    ctis = []\n",
    "    for chemkin_index in list_: \n",
    "        if chemkin_index<10:\n",
    "            cti = f'copy_chem000{chemkin_index}.cti'\n",
    "        if 100>chemkin_index>=10:\n",
    "            cti = f'copy_chem00{chemkin_index}.cti'        \n",
    "        if chemkin_index>=100:\n",
    "            cti = f'copy_chem0{chemkin_index}.cti'\n",
    "        ctis.append(cti)\n",
    "\n",
    "    for cti in ctis: \n",
    "        \n",
    "        cti_path = f'{copies_folder}/{cti}'\n",
    "\n",
    "        print(f'*******************Starting cti: {cti} of {description} ***************')\n",
    "        gas = ct.Solution(cti_path)\n",
    "        halocarbon = 'CH3F(1)'\n",
    "\n",
    "        To = 298\n",
    "        Po = 1e5 # ct.one_atm\n",
    "\n",
    "\n",
    "        mole_frac_list = list(np.linspace(0.025, 0.25, 50))\n",
    "        mole_frac_list=[0.125]\n",
    "\n",
    "        results = {}\n",
    "\n",
    "        for i in range(len(mole_frac_list)): \n",
    "            try: \n",
    "                x = mole_frac_list[i]\n",
    "                string = f'****************************starting new volume fraction: {x} **************************'\n",
    "                print(string)\n",
    "\n",
    "                norm_ox = (1-x)*.21\n",
    "                mole_frac_dict = {halocarbon: x, 'O2(2)':((1-x)*.21), 'N2':((1-x)*0.79)} \n",
    "                #print(f'Unnormalized composition dictionary: {mole_frac_dict}')\n",
    "\n",
    "                #normalize it to O2 \n",
    "                mole_frac_dict = {halocarbon: (x/norm_ox), 'O2(2)':((1-x)*.21)/norm_ox, 'N2':((1-x)*0.79)/norm_ox } \n",
    "                #print(f'Normalizing: {mole_frac_dict}')\n",
    "\n",
    "                gas.TPX = To, Po, mole_frac_dict\n",
    "                width = 0.08\n",
    "                flame = ct.FreeFlame(gas, width=width)\n",
    "                flame.set_refine_criteria(ratio=3, slope=0.1, curve=0.1) \n",
    "                flame.max_time_step_count = 3000\n",
    "                flame.solve(loglevel=loglevel, auto=False)\n",
    "                Su = flame.velocity[0]\n",
    "                results[x] = Su\n",
    "                if save==True: \n",
    "                    sltn = flame.to_solution_array()\n",
    "                    pd = sltn.to_pandas()\n",
    "                    pd.to_csv(f'data/{x}.csv', index=False)\n",
    "\n",
    "            except Exception as e: \n",
    "                print(f'********************passed volume fraction:{mole_frac_list[i]}, error: {e}*************************************')\n",
    "                pass\n",
    "\n",
    "        vol_fracs = list(results.keys())\n",
    "        flame_speeds = list(results.values())\n",
    "\n",
    "        print(f\"flamespeed: {flame_speeds}\")\n",
    "\n",
    "\n"
   ]
  },
  {
   "cell_type": "markdown",
   "id": "a567293f",
   "metadata": {},
   "source": []
  },
  {
   "cell_type": "code",
   "execution_count": null,
   "id": "19d43c38-31c5-4bc3-a7bc-70fd1dcdce46",
   "metadata": {},
   "outputs": [],
   "source": []
  },
  {
   "cell_type": "markdown",
   "id": "2ceaac6a-d462-4b68-9c39-13ec9a41ae32",
   "metadata": {},
   "source": [
    "# Testing Flamespeeds"
   ]
  },
  {
   "cell_type": "code",
   "execution_count": 19,
   "id": "27beda97-392a-499b-817e-09b8c58b498f",
   "metadata": {},
   "outputs": [
    {
     "name": "stdout",
     "output_type": "stream",
     "text": [
      "*******************Starting cti: copy_chem0124.cti of CH3F_main/CH3F_main ***************\n",
      "****************************starting new volume fraction: 0.125 **************************\n",
      "********************passed volume fraction:0.125, error: [Errno 2] No such file or directory: 'data/0.125.csv'*************************************\n",
      "flamespeed: [0.15710163310186137]\n"
     ]
    }
   ],
   "source": [
    "#testing CH3F main\n",
    "\n",
    "loglevel=0\n",
    "chemkin_indices=[124] #if you know the numbers of the chemkin, write as integers\n",
    "description = 'CH3F_main/CH3F_main' #this is the path to the model\n",
    "test_flamespeed(description, chemkin_indices, loglevel, format_desc=False) #only format_desc==False if '_rebased' not in model name"
   ]
  },
  {
   "cell_type": "code",
   "execution_count": null,
   "id": "eec3f7a8-b615-4161-b546-fcc4c5235654",
   "metadata": {},
   "outputs": [],
   "source": [
    "#testing CH3F main\n",
    "\n",
    "loglevel=0\n",
    "chemkin_indices=[12, 30] #you can also provide a range\n",
    "description = 'CH3F_main/CH3F_main'\n",
    "convert_to_cti(description, chemkin_indices, format_desc=False)\n",
    "test_flamespeed(description, chemkin_indices, loglevel, format_desc=False)"
   ]
  },
  {
   "cell_type": "code",
   "execution_count": null,
   "id": "893728d4-5662-4625-9e5e-23d2df7b0fbf",
   "metadata": {
    "tags": []
   },
   "outputs": [],
   "source": [
    "#can test many RMG models at once\n",
    "loglevel=0\n",
    "chemkin_indices=[21] #if you want to do the chem_annotated cti, write at chemkin_indices=['chem_annotated.inp'], give as string\n",
    "for fam in families_ive_rebased:\n",
    "    description = f'all_families_on_rebase_edited_by_Nora/one_kinfam_at_a_time/{fam}_rebased'\n",
    "    convert_to_cti(description, chemkin_indices, format_desc=False)\n",
    "    test_flamespeed(description, chemkin_indices, loglevel, format_desc=False)"
   ]
  },
  {
   "cell_type": "code",
   "execution_count": null,
   "id": "548e9e5a-ebe3-42b6-bfdb-a406f8c3d3c4",
   "metadata": {},
   "outputs": [],
   "source": []
  },
  {
   "cell_type": "code",
   "execution_count": null,
   "id": "88d935ce-a9a1-4f2f-9140-58fb6f968af4",
   "metadata": {},
   "outputs": [],
   "source": []
  },
  {
   "cell_type": "code",
   "execution_count": null,
   "id": "3c0ca9ae-45b4-432e-aac0-4669e7f13033",
   "metadata": {},
   "outputs": [],
   "source": []
  }
 ],
 "metadata": {
  "kernelspec": {
   "display_name": "rmg_env",
   "language": "python",
   "name": "rmg_env"
  },
  "language_info": {
   "codemirror_mode": {
    "name": "ipython",
    "version": 3
   },
   "file_extension": ".py",
   "mimetype": "text/x-python",
   "name": "python",
   "nbconvert_exporter": "python",
   "pygments_lexer": "ipython3",
   "version": "3.7.16"
  }
 },
 "nbformat": 4,
 "nbformat_minor": 5
}
